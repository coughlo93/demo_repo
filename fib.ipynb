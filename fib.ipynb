{
 "cells": [
  {
   "cell_type": "markdown",
   "metadata": {},
   "source": [
    "# Fibonacci Sequence\n",
    "\n",
    "***"
   ]
  },
  {
   "cell_type": "markdown",
   "metadata": {},
   "source": [
    "**Disclaimer** I used ChatGPT to generate ideas and sketches of the content of the following notebook. The notebook is mainly my own work, as ChatGPT sometimes suggested clearly incorrect ideas and in any case I had to re-work the code and text it generated to meet my on needs."
   ]
  },
  {
   "cell_type": "markdown",
   "metadata": {},
   "source": [
    "Below is [Wikipedia's explanation of the Fibonacci Sequence](https://en.wikipedia.org/wiki/Fibonacci_sequence#Definition):\n",
    "\n",
    "The Fibonacci numbers may be defined by the recurrence relation\n",
    "\n",
    "$F_0 = 0, F_1 = 1, F_n = F_{n-1} + F_{n-2}$\n",
    "\n",
    "The sequence is then:\n",
    "\n",
    "0, 1, 1, 2, 3, 5, 8, 13, 21, 34, 55, 89, 144, ....\n"
   ]
  },
  {
   "cell_type": "markdown",
   "metadata": {},
   "source": [
    "#### Below is ChatGPT's explanation of the sequence\n"
   ]
  },
  {
   "cell_type": "markdown",
   "metadata": {},
   "source": [
    "The Fibonacci sequence is a series of numbers in which each number is the sum of the two preceding ones, usually starting with 0 and 1. In mathematical terms, the sequence starts with 0 and 1, and each subsequent number is the sum of the two preceding numbers. So the sequence goes: 0, 1, 1, 2, 3, 5, 8, 13, 21, and so on.\n",
    "\n",
    "Formally, if we denote the nth Fibonacci number as F(n), then:\n",
    "\n",
    "- F(0) = 0\n",
    "- F(1) = 1\n",
    "- F(n) = F(n-1) + F(n-2) for n > 1\n",
    "\n",
    "For example:\n",
    "- F(2) = F(1) + F(0) = 1 + 0 = 1\n",
    "- F(3) = F(2) + F(1) = 1 + 1 = 2\n",
    "- F(4) = F(3) + F(2) = 2 + 1 = 3\n",
    "- And so on...\n",
    "\n",
    "The Fibonacci sequence appears in many areas of mathematics and science, including biology, where it describes various natural phenomena such as the arrangement of leaves on a stem, the branching of trees, and the arrangement of seeds in a sunflower. It also has applications in computer science, particularly in algorithms, where it's used for tasks such as generating pseudo-random numbers, optimizing search algorithms, and coding theory.\n"
   ]
  },
  {
   "cell_type": "markdown",
   "metadata": {},
   "source": [
    "# Generating the nth Fibonacci Number\n",
    "\n",
    "***"
   ]
  },
  {
   "cell_type": "markdown",
   "metadata": {},
   "source": [
    "A good resource for figuring oyt how to style Python code is [PEP8](https://peps.python.org/pep-0008/).\n",
    "\n",
    "You might also look at [Google's official style guide for Python](https://google.github.io/styleguide/pyguide.html)."
   ]
  },
  {
   "cell_type": "code",
   "execution_count": 8,
   "metadata": {},
   "outputs": [],
   "source": [
    "def fibonacci(n):\n",
    "    # The first Fibonacci number (index 0) is 0.\n",
    "    if n == 0:\n",
    "        return 0\n",
    "    # The second Fibonacci number (index 1) is 1.\n",
    "    elif n == 1:\n",
    "        return 1\n",
    "    # Every other Fibonacci number is the sum of the two numbers before it.\n",
    "    else:\n",
    "        return fibonacci(n-1) + fibonacci(n-2)\n",
    "    "
   ]
  },
  {
   "cell_type": "code",
   "execution_count": 7,
   "metadata": {},
   "outputs": [],
   "source": [
    "def fib(x, y):\n",
    "    return x + y"
   ]
  },
  {
   "cell_type": "code",
   "execution_count": null,
   "metadata": {},
   "outputs": [],
   "source": []
  },
  {
   "cell_type": "code",
   "execution_count": null,
   "metadata": {},
   "outputs": [],
   "source": []
  },
  {
   "cell_type": "code",
   "execution_count": null,
   "metadata": {},
   "outputs": [],
   "source": []
  },
  {
   "cell_type": "markdown",
   "metadata": {},
   "source": [
    "***\n",
    "\n",
    "## End"
   ]
  }
 ],
 "metadata": {
  "kernelspec": {
   "display_name": "base",
   "language": "python",
   "name": "python3"
  },
  "language_info": {
   "codemirror_mode": {
    "name": "ipython",
    "version": 3
   },
   "file_extension": ".py",
   "mimetype": "text/x-python",
   "name": "python",
   "nbconvert_exporter": "python",
   "pygments_lexer": "ipython3",
   "version": "3.11.5"
  }
 },
 "nbformat": 4,
 "nbformat_minor": 2
}
